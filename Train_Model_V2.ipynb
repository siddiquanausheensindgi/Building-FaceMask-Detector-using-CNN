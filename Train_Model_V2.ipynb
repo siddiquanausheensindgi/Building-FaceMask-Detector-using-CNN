{
 "cells": [
  {
   "cell_type": "code",
   "execution_count": 1,
   "metadata": {},
   "outputs": [],
   "source": [
    "# import libraries\n",
    "import cv2\n",
    "import numpy as np\n",
    "import os\n",
    "import h5py\n",
    "from keras.models import Sequential\n",
    "from keras.utils import np_utils\n",
    "from keras.layers import Dense, Dropout, Flatten, Conv2D, MaxPooling2D\n",
    "from keras.optimizers import Adam\n",
    "from sklearn.model_selection import train_test_split\n",
    "import itertools\n",
    "import matplotlib.pyplot as plt\n",
    "from pathlib import Path\n",
    "%matplotlib inline\n",
    "from sklearn.metrics import accuracy_score,classification_report,confusion_matrix"
   ]
  },
  {
   "cell_type": "code",
   "execution_count": 2,
   "metadata": {},
   "outputs": [],
   "source": [
    "data_dir = 'input'"
   ]
  },
  {
   "cell_type": "code",
   "execution_count": 3,
   "metadata": {},
   "outputs": [
    {
     "name": "stdout",
     "output_type": "stream",
     "text": [
      "['MASK', 'MOUTH_BELOW', 'NO MASK', 'NOSE_BELOW']\n"
     ]
    }
   ],
   "source": [
    "class_labels = os.listdir(data_dir)\n",
    "print(class_labels)"
   ]
  },
  {
   "cell_type": "code",
   "execution_count": 4,
   "metadata": {},
   "outputs": [
    {
     "name": "stdout",
     "output_type": "stream",
     "text": [
      "MASK 2374\n",
      "MOUTH_BELOW 1275\n",
      "NO MASK 2746\n",
      "NOSE_BELOW 2890\n"
     ]
    }
   ],
   "source": [
    "nb_sampl = 0\n",
    "for label in os.listdir('input'):\n",
    "    total = len(os.listdir(os.path.join('input', label)))\n",
    "    print(label, total)\n",
    "    nb_sampl+=total"
   ]
  },
  {
   "cell_type": "code",
   "execution_count": 5,
   "metadata": {},
   "outputs": [],
   "source": [
    "num_classes = len(class_labels)\n",
    "img_rows= 64       #to reduce resolution.. tuning\n",
    "img_cols= 64\n",
    "channel = 3"
   ]
  },
  {
   "cell_type": "code",
   "execution_count": 6,
   "metadata": {},
   "outputs": [
    {
     "data": {
      "text/plain": [
       "4"
      ]
     },
     "execution_count": 6,
     "metadata": {},
     "output_type": "execute_result"
    }
   ],
   "source": [
    "num_classes"
   ]
  },
  {
   "cell_type": "code",
   "execution_count": 7,
   "metadata": {},
   "outputs": [],
   "source": [
    "def load_data():\n",
    "    #Load training images\n",
    "    labels = class_labels\n",
    "    print(labels)\n",
    "    total = len(labels)\n",
    "    \n",
    "    X_train = np.ndarray((nb_sampl, img_rows, img_cols, channel), dtype = np.uint8) #\n",
    "    Y_train = np.zeros((nb_sampl,), dtype = np.uint8)\n",
    "    \n",
    "    i = 0\n",
    "    j = 0\n",
    "    for label in labels:\n",
    "        image_names_train = os.listdir(os.path.join(data_dir, label))\n",
    "        total = len(image_names_train)\n",
    "        print(label, total)\n",
    "        for image_name in image_names_train:\n",
    "            try: \n",
    "                img = cv2.imread(os.path.join(data_dir, label, image_name), 1)  #Read the image in RGB/Coloured format\n",
    "                img = np.array(cv2.resize(img, (img_rows,img_cols)))\n",
    "                X_train[i] = img\n",
    "                Y_train[i] = j\n",
    "            except Exception as e:\n",
    "                pass\n",
    "            i += 1\n",
    "        j += 1      \n",
    "    Y_train = np_utils.to_categorical(Y_train[:nb_sampl], num_classes)\n",
    "    return X_train, Y_train"
   ]
  },
  {
   "cell_type": "code",
   "execution_count": 8,
   "metadata": {
    "scrolled": true
   },
   "outputs": [
    {
     "name": "stdout",
     "output_type": "stream",
     "text": [
      "['MASK', 'MOUTH_BELOW', 'NO MASK', 'NOSE_BELOW']\n",
      "MASK 2374\n",
      "MOUTH_BELOW 1275\n",
      "NO MASK 2746\n",
      "NOSE_BELOW 2890\n"
     ]
    }
   ],
   "source": [
    "X, Y = load_data()"
   ]
  },
  {
   "cell_type": "code",
   "execution_count": 9,
   "metadata": {},
   "outputs": [
    {
     "name": "stdout",
     "output_type": "stream",
     "text": [
      "(9285, 64, 64, 3) (9285, 4)\n"
     ]
    }
   ],
   "source": [
    "print(X.shape, Y.shape)"
   ]
  },
  {
   "cell_type": "code",
   "execution_count": 10,
   "metadata": {},
   "outputs": [],
   "source": [
    "# normalize data\n",
    "X = X.astype('float32')\n",
    "X /= 255"
   ]
  },
  {
   "cell_type": "code",
   "execution_count": 11,
   "metadata": {},
   "outputs": [],
   "source": [
    "X_train, X_test, y_train, y_test = train_test_split(X, Y, random_state=44, test_size=0.2)"
   ]
  },
  {
   "cell_type": "code",
   "execution_count": 12,
   "metadata": {},
   "outputs": [],
   "source": [
    "model = Sequential() #Create a NN Model"
   ]
  },
  {
   "cell_type": "code",
   "execution_count": 13,
   "metadata": {},
   "outputs": [],
   "source": [
    "model.add(Conv2D(32, (3, 3),activation='relu', padding='same', input_shape=(64,64,3)))\n",
    "model.add(MaxPooling2D(2, 2))\n",
    "model.add(Dropout(0.2))\n",
    "\n",
    "model.add(Conv2D(64, (3, 3),activation='relu'))\n",
    "model.add(MaxPooling2D(2, 2))\n",
    "model.add(Dropout(0.1))\n",
    "\n",
    "model.add(Conv2D(128, (3, 3),activation='relu'))\n",
    "model.add(MaxPooling2D(2, 2))\n",
    "model.add(Dropout(0.1))\n",
    "\n",
    "model.add(Conv2D(256, (3, 3),activation='relu'))\n",
    "model.add(MaxPooling2D(2, 2))\n",
    "model.add(Dropout(0.1))\n",
    "\n",
    "model.add(Flatten())\n",
    "model.add(Dense(512, activation='relu'))\n",
    "model.add(Dropout(0.2))\n",
    "model.add(Dense(num_classes, activation='softmax'))"
   ]
  },
  {
   "cell_type": "code",
   "execution_count": 14,
   "metadata": {},
   "outputs": [],
   "source": [
    "model.compile(\n",
    "    loss= 'categorical_crossentropy', \n",
    "    optimizer=Adam(lr=0.001, decay=1e-04),\n",
    "    metrics=['accuracy']\n",
    ")\n",
    "epochs=20"
   ]
  },
  {
   "cell_type": "code",
   "execution_count": 15,
   "metadata": {},
   "outputs": [
    {
     "name": "stdout",
     "output_type": "stream",
     "text": [
      "Model: \"sequential\"\n",
      "_________________________________________________________________\n",
      "Layer (type)                 Output Shape              Param #   \n",
      "=================================================================\n",
      "conv2d (Conv2D)              (None, 64, 64, 32)        896       \n",
      "_________________________________________________________________\n",
      "max_pooling2d (MaxPooling2D) (None, 32, 32, 32)        0         \n",
      "_________________________________________________________________\n",
      "dropout (Dropout)            (None, 32, 32, 32)        0         \n",
      "_________________________________________________________________\n",
      "conv2d_1 (Conv2D)            (None, 30, 30, 64)        18496     \n",
      "_________________________________________________________________\n",
      "max_pooling2d_1 (MaxPooling2 (None, 15, 15, 64)        0         \n",
      "_________________________________________________________________\n",
      "dropout_1 (Dropout)          (None, 15, 15, 64)        0         \n",
      "_________________________________________________________________\n",
      "conv2d_2 (Conv2D)            (None, 13, 13, 128)       73856     \n",
      "_________________________________________________________________\n",
      "max_pooling2d_2 (MaxPooling2 (None, 6, 6, 128)         0         \n",
      "_________________________________________________________________\n",
      "dropout_2 (Dropout)          (None, 6, 6, 128)         0         \n",
      "_________________________________________________________________\n",
      "conv2d_3 (Conv2D)            (None, 4, 4, 256)         295168    \n",
      "_________________________________________________________________\n",
      "max_pooling2d_3 (MaxPooling2 (None, 2, 2, 256)         0         \n",
      "_________________________________________________________________\n",
      "dropout_3 (Dropout)          (None, 2, 2, 256)         0         \n",
      "_________________________________________________________________\n",
      "flatten (Flatten)            (None, 1024)              0         \n",
      "_________________________________________________________________\n",
      "dense (Dense)                (None, 512)               524800    \n",
      "_________________________________________________________________\n",
      "dropout_4 (Dropout)          (None, 512)               0         \n",
      "_________________________________________________________________\n",
      "dense_1 (Dense)              (None, 4)                 2052      \n",
      "=================================================================\n",
      "Total params: 915,268\n",
      "Trainable params: 915,268\n",
      "Non-trainable params: 0\n",
      "_________________________________________________________________\n"
     ]
    }
   ],
   "source": [
    "model.summary()"
   ]
  },
  {
   "cell_type": "code",
   "execution_count": 16,
   "metadata": {
    "scrolled": true
   },
   "outputs": [
    {
     "name": "stdout",
     "output_type": "stream",
     "text": [
      "Epoch 1/20\n",
      "149/149 [==============================] - 33s 219ms/step - loss: 1.1945 - accuracy: 0.4565 - val_loss: 0.9397 - val_accuracy: 0.6107\n",
      "Epoch 2/20\n",
      "149/149 [==============================] - 33s 224ms/step - loss: 0.8740 - accuracy: 0.6358 - val_loss: 0.7595 - val_accuracy: 0.7001\n",
      "Epoch 3/20\n",
      "149/149 [==============================] - 33s 221ms/step - loss: 0.7033 - accuracy: 0.7162 - val_loss: 0.5912 - val_accuracy: 0.7636\n",
      "Epoch 4/20\n",
      "149/149 [==============================] - 33s 223ms/step - loss: 0.5545 - accuracy: 0.7844 - val_loss: 0.4835 - val_accuracy: 0.8104\n",
      "Epoch 5/20\n",
      "149/149 [==============================] - 34s 229ms/step - loss: 0.4697 - accuracy: 0.8207 - val_loss: 0.4635 - val_accuracy: 0.8148\n",
      "Epoch 6/20\n",
      "149/149 [==============================] - 33s 223ms/step - loss: 0.3949 - accuracy: 0.8445 - val_loss: 0.4245 - val_accuracy: 0.8288\n",
      "Epoch 7/20\n",
      "149/149 [==============================] - 33s 221ms/step - loss: 0.3550 - accuracy: 0.8665 - val_loss: 0.3645 - val_accuracy: 0.8675\n",
      "Epoch 8/20\n",
      "149/149 [==============================] - 35s 237ms/step - loss: 0.2941 - accuracy: 0.8922 - val_loss: 0.3592 - val_accuracy: 0.8665\n",
      "Epoch 9/20\n",
      "149/149 [==============================] - 36s 245ms/step - loss: 0.2682 - accuracy: 0.8995 - val_loss: 0.2969 - val_accuracy: 0.8880\n",
      "Epoch 10/20\n",
      "149/149 [==============================] - 34s 227ms/step - loss: 0.2175 - accuracy: 0.9164 - val_loss: 0.2830 - val_accuracy: 0.8923\n",
      "Epoch 11/20\n",
      "149/149 [==============================] - 33s 223ms/step - loss: 0.1975 - accuracy: 0.9203 - val_loss: 0.3015 - val_accuracy: 0.8885\n",
      "Epoch 12/20\n",
      "149/149 [==============================] - 33s 223ms/step - loss: 0.1692 - accuracy: 0.9391 - val_loss: 0.3278 - val_accuracy: 0.8772\n",
      "Epoch 13/20\n",
      "149/149 [==============================] - 33s 224ms/step - loss: 0.1580 - accuracy: 0.9385 - val_loss: 0.2988 - val_accuracy: 0.8955\n",
      "Epoch 14/20\n",
      "149/149 [==============================] - 34s 227ms/step - loss: 0.1151 - accuracy: 0.9623 - val_loss: 0.2789 - val_accuracy: 0.9004\n",
      "Epoch 15/20\n",
      "149/149 [==============================] - 33s 223ms/step - loss: 0.1062 - accuracy: 0.9587 - val_loss: 0.2770 - val_accuracy: 0.9138\n",
      "Epoch 16/20\n",
      "149/149 [==============================] - 33s 221ms/step - loss: 0.0942 - accuracy: 0.9668 - val_loss: 0.2941 - val_accuracy: 0.9085\n",
      "Epoch 17/20\n",
      "149/149 [==============================] - 33s 223ms/step - loss: 0.0774 - accuracy: 0.9731 - val_loss: 0.2894 - val_accuracy: 0.9128\n",
      "Epoch 18/20\n",
      "149/149 [==============================] - 33s 224ms/step - loss: 0.0897 - accuracy: 0.9708 - val_loss: 0.3781 - val_accuracy: 0.8772\n",
      "Epoch 19/20\n",
      "149/149 [==============================] - 33s 222ms/step - loss: 0.0796 - accuracy: 0.9740 - val_loss: 0.2924 - val_accuracy: 0.9133\n",
      "Epoch 20/20\n",
      "149/149 [==============================] - 33s 221ms/step - loss: 0.0602 - accuracy: 0.9796 - val_loss: 0.3008 - val_accuracy: 0.9090\n"
     ]
    }
   ],
   "source": [
    "history = model.fit(\n",
    "    X_train,\n",
    "    y_train,\n",
    "    batch_size=50,\n",
    "    epochs=epochs,\n",
    "    validation_data=(X_test, y_test),\n",
    "    shuffle=True\n",
    ")\n"
   ]
  },
  {
   "cell_type": "code",
   "execution_count": 17,
   "metadata": {},
   "outputs": [
    {
     "data": {
      "image/png": "[encoded data removed]",
      "text/plain": [
       "<Figure size 432x288 with 1 Axes>"
      ]
     },
     "metadata": {
      "needs_background": "light"
     },
     "output_type": "display_data"
    }
   ],
   "source": [
    "loss_train = history.history['accuracy']\n",
    "loss_val = history.history['val_accuracy']\n",
    "epochs1 = range(1,epochs+1)\n",
    "plt.plot(epochs1, loss_train, 'g', label='Training accuracy')\n",
    "plt.plot(epochs1, loss_val, 'b', label='validation accuracy')\n",
    "plt.title('Training and Validation accuracy')\n",
    "plt.xlabel('Epochs')\n",
    "plt.ylabel('Accuracy')\n",
    "plt.legend()\n",
    "plt.show()"
   ]
  },
  {
   "cell_type": "code",
   "execution_count": 18,
   "metadata": {},
   "outputs": [
    {
     "data": {
      "image/png": "[encoded data removed]",
      "text/plain": [
       "<Figure size 432x288 with 1 Axes>"
      ]
     },
     "metadata": {
      "needs_background": "light"
     },
     "output_type": "display_data"
    }
   ],
   "source": [
    "loss_train = history.history['loss']\n",
    "loss_val = history.history['val_loss']\n",
    "\n",
    "plt.plot(epochs1, loss_train, 'g', label='Training loss')\n",
    "plt.plot(epochs1, loss_val, 'b', label='validation loss')\n",
    "plt.title('Training and Validation loss')\n",
    "plt.xlabel('Epochs')\n",
    "plt.ylabel('Loss')\n",
    "plt.legend()\n",
    "plt.show()"
   ]
  },
  {
   "cell_type": "code",
   "execution_count": 19,
   "metadata": {},
   "outputs": [
    {
     "data": {
      "text/plain": [
       "1857"
      ]
     },
     "execution_count": 19,
     "metadata": {},
     "output_type": "execute_result"
    }
   ],
   "source": [
    "y_pred = model.predict(X_test, batch_size=10, verbose=0)\n",
    "\n",
    "y_predict = []\n",
    "for i in range(0, len(y_pred)):\n",
    "    y_predict.append(int(np.argmax(y_pred[i])))\n",
    "len(y_predict)\n",
    "\n",
    "y_true = []\n",
    "for i in range(0, len(y_test)):\n",
    "    y_true.append(int(np.argmax(y_test[i])))\n",
    "len(y_true)"
   ]
  },
  {
   "cell_type": "code",
   "execution_count": 20,
   "metadata": {},
   "outputs": [],
   "source": [
    "def plot_confusion_matrix(cm, classes,\n",
    "                          title='Confusion matrix',\n",
    "                          cmap=plt.cm.Blues):\n",
    "    plt.figure(figsize=(7,7))\n",
    "    plt.imshow(cm, interpolation='nearest', cmap=cmap)\n",
    "    plt.title(title)\n",
    "    plt.colorbar()\n",
    "    tick_marks = np.arange(len(classes))\n",
    "    plt.xticks(tick_marks, classes, rotation=45)\n",
    "    plt.yticks(tick_marks, classes, rotation=45)\n",
    "\n",
    "    fmt = 'd'\n",
    "    thresh = cm.max() / 2.\n",
    "    for i, j in itertools.product(range(cm.shape[0]), range(cm.shape[1])):\n",
    "        plt.text(j, i, format(cm[i, j], fmt),\n",
    "                 horizontalalignment=\"center\",\n",
    "                 color=\"white\" if cm[i, j] > thresh else \"black\")\n",
    "\n",
    "    plt.ylabel('Actual label')\n",
    "    plt.xlabel('Predicted label')\n",
    "    plt.tight_layout()\n",
    "    plt.show()\n",
    "\n",
    "cm_plot_labels = class_labels"
   ]
  },
  {
   "cell_type": "code",
   "execution_count": 21,
   "metadata": {},
   "outputs": [
    {
     "name": "stdout",
     "output_type": "stream",
     "text": [
      "              precision    recall  f1-score   support\n",
      "\n",
      "           0       0.94      0.91      0.93       478\n",
      "           1       0.84      0.80      0.81       249\n",
      "           2       0.92      0.93      0.92       561\n",
      "           3       0.90      0.94      0.92       569\n",
      "\n",
      "    accuracy                           0.91      1857\n",
      "   macro avg       0.90      0.89      0.90      1857\n",
      "weighted avg       0.91      0.91      0.91      1857\n",
      "\n"
     ]
    }
   ],
   "source": [
    "print(classification_report(y_true=y_true,y_pred=y_predict))"
   ]
  },
  {
   "cell_type": "code",
   "execution_count": 22,
   "metadata": {},
   "outputs": [
    {
     "data": {
      "image/png": "[encoded data removed]",
      "text/plain": [
       "<Figure size 504x504 with 2 Axes>"
      ]
     },
     "metadata": {
      "needs_background": "light"
     },
     "output_type": "display_data"
    }
   ],
   "source": [
    "# to plot confusion matrix\n",
    "cm = confusion_matrix(y_true=y_true, y_pred=y_predict)\n",
    "plot_confusion_matrix(cm, cm_plot_labels, title='Confusion Matrix')"
   ]
  },
  {
   "cell_type": "code",
   "execution_count": 23,
   "metadata": {},
   "outputs": [
    {
     "name": "stdout",
     "output_type": "stream",
     "text": [
      "59/59 [==============================] - 1s 23ms/step - loss: 0.3008 - accuracy: 0.9090\n",
      "Loss Value :  0.30080994963645935\n",
      "Accuracy :  0.9089930057525635\n"
     ]
    }
   ],
   "source": [
    "score = model.evaluate(x= X_test, y= y_test, batch_size=32) #evaluatethe model on the test data\n",
    "print(\"Loss Value : \", score[0])\n",
    "print(\"Accuracy : \", score[1])"
   ]
  },
  {
   "cell_type": "code",
   "execution_count": 24,
   "metadata": {},
   "outputs": [],
   "source": [
    "model_structure = model.to_json()    # loading and Saving the trained model for reusability\n",
    "f = Path(\"model/model_structure.json\")\n",
    "f.write_text(model_structure)\n",
    "\n",
    "model.save_weights(\"model/model_weights.h5\")"
   ]
  },
  {
   "cell_type": "markdown",
   "metadata": {},
   "source": [
    "# End..."
   ]
  },
  {
   "cell_type": "code",
   "execution_count": null,
   "metadata": {},
   "outputs": [],
   "source": []
  }
 ],
 "metadata": {
  "kernelspec": {
   "display_name": "Python 3",
   "language": "python",
   "name": "python3"
  },
  "language_info": {
   "codemirror_mode": {
    "name": "ipython",
    "version": 3
   },
   "file_extension": ".py",
   "mimetype": "text/x-python",
   "name": "python",
   "nbconvert_exporter": "python",
   "pygments_lexer": "ipython3",
   "version": "3.8.5"
  }
 },
 "nbformat": 4,
 "nbformat_minor": 2
}
